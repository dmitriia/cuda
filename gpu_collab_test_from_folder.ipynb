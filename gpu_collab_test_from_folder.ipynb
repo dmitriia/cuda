{
  "nbformat": 4,
  "nbformat_minor": 0,
  "metadata": {
    "colab": {
      "name": "gpu_collab_test_from_folder.ipynb",
      "provenance": [],
      "include_colab_link": true
    },
    "kernelspec": {
      "name": "python3",
      "display_name": "Python 3"
    },
    "accelerator": "GPU"
  },
  "cells": [
    {
      "cell_type": "markdown",
      "metadata": {
        "id": "view-in-github",
        "colab_type": "text"
      },
      "source": [
        "<a href=\"https://colab.research.google.com/github/dmitriia/cuda/blob/master/gpu_collab_test_from_folder.ipynb\" target=\"_parent\"><img src=\"https://colab.research.google.com/assets/colab-badge.svg\" alt=\"Open In Colab\"/></a>"
      ]
    },
    {
      "cell_type": "code",
      "metadata": {
        "id": "uB4EsUf-6tTW",
        "colab_type": "code",
        "colab": {}
      },
      "source": [
        "import codecs\n",
        "import sys\n",
        "import os \n",
        "import pandas as pd\n",
        "import numpy as np\n",
        "import pickle\n",
        "import numba"
      ],
      "execution_count": 0,
      "outputs": []
    },
    {
      "cell_type": "code",
      "metadata": {
        "id": "HftoV_iM6uOu",
        "colab_type": "code",
        "outputId": "59e48aea-9265-4079-facd-ef6e00e815a6",
        "colab": {
          "base_uri": "https://localhost:8080/",
          "height": 85
        }
      },
      "source": [
        "!nvcc --version"
      ],
      "execution_count": 2,
      "outputs": [
        {
          "output_type": "stream",
          "text": [
            "nvcc: NVIDIA (R) Cuda compiler driver\n",
            "Copyright (c) 2005-2019 NVIDIA Corporation\n",
            "Built on Sun_Jul_28_19:07:16_PDT_2019\n",
            "Cuda compilation tools, release 10.1, V10.1.243\n"
          ],
          "name": "stdout"
        }
      ]
    },
    {
      "cell_type": "code",
      "metadata": {
        "id": "7AlxSBe36v0n",
        "colab_type": "code",
        "colab": {}
      },
      "source": [
        "# 1 ШАГ. Установка Пакетов для работы с GPU (После перезапуска, не выполнять)\n",
        "#!apt-get install nvidia-cuda-toolkit #> /dev/null 2>&1\n",
        "!pip install cudf #> /dev/null 2>&1\n",
        "!pip3 install cudf-cuda100 #> /dev/null 2>&1\n",
        "print(\"Next\")"
      ],
      "execution_count": 0,
      "outputs": []
    },
    {
      "cell_type": "code",
      "metadata": {
        "id": "HuQ_TgGG6xXP",
        "colab_type": "code",
        "colab": {}
      },
      "source": [
        "#!find / -iname 'libdevice'\n",
        "#!find / -iname 'libnvvm.so'"
      ],
      "execution_count": 0,
      "outputs": []
    },
    {
      "cell_type": "code",
      "metadata": {
        "id": "NqiDDI_J6zfj",
        "colab_type": "code",
        "colab": {}
      },
      "source": [
        "# 2 Шаг. Проверка\n",
        "import os\n",
        "os.environ['NUMBAPRO_LIBDEVICE'] = \"/usr/local/cuda-10.1/nvvm/libdevice\"\n",
        "os.environ['NUMBAPRO_NVVM'] = \"/usr/local/cuda-10.1/nvvm/lib64/libnvvm.so\"\n",
        "\n",
        "from numba import cuda\n",
        "import numpy as np\n",
        "import time\n",
        "\n",
        "@cuda.jit\n",
        "def hello(data):\n",
        "    data[cuda.blockIdx.x, cuda.threadIdx.x] = cuda.blockIdx.x\n",
        "\n",
        "numBlocks = 5\n",
        "threadsPerBlock = 10\n",
        "\n",
        "data = np.ones((numBlocks, threadsPerBlock), dtype=np.uint8)\n",
        "\n",
        "hello[numBlocks, threadsPerBlock](data)\n",
        "\n",
        "print(data)"
      ],
      "execution_count": 0,
      "outputs": []
    },
    {
      "cell_type": "markdown",
      "metadata": {
        "id": "tv6wTGAQ8Ubx",
        "colab_type": "text"
      },
      "source": [
        "После Ошибки (TypeError: __init__() got an unexpected keyword argument 'support_literals') перезапустить Runtime"
      ]
    },
    {
      "cell_type": "markdown",
      "metadata": {
        "id": "ja7DAwl680Ku",
        "colab_type": "text"
      },
      "source": [
        "Загрузить чеоез upload архив zip "
      ]
    },
    {
      "cell_type": "code",
      "metadata": {
        "id": "8ydpuEUS6124",
        "colab_type": "code",
        "outputId": "53f1f5c4-cb27-446c-fb2b-363f3fe40dbf",
        "colab": {
          "base_uri": "https://localhost:8080/",
          "height": 527
        }
      },
      "source": [
        "!unzip gpu_local_cfm.zip;\n",
        "print( \"end\")"
      ],
      "execution_count": 8,
      "outputs": [
        {
          "output_type": "stream",
          "text": [
            "Archive:  gpu_local_cfm.zip\n",
            "replace gpu_local_cfm/.idea/inspectionProfiles/profiles_settings.xml? [y]es, [n]o, [A]ll, [N]one, [r]ename: A\n",
            "  inflating: gpu_local_cfm/.idea/inspectionProfiles/profiles_settings.xml  \n",
            "  inflating: gpu_local_cfm/.idea/misc.xml  \n",
            "  inflating: gpu_local_cfm/.idea/modules.xml  \n",
            "  inflating: gpu_local_cfm/.idea/test.iml  \n",
            "  inflating: gpu_local_cfm/.idea/workspace.xml  \n",
            "  inflating: gpu_local_cfm/cuda_utils.py  \n",
            "  inflating: gpu_local_cfm/impdata/names.py  \n",
            "  inflating: gpu_local_cfm/impdata/__pycache__/names.cpython-37.pyc  \n",
            "  inflating: gpu_local_cfm/model/cir_params.py  \n",
            "  inflating: gpu_local_cfm/model/common.py  \n",
            "  inflating: gpu_local_cfm/model/model_cfm.py  \n",
            "  inflating: gpu_local_cfm/model/model_cir.py  \n",
            "  inflating: gpu_local_cfm/model/__pycache__/common.cpython-37.pyc  \n",
            "  inflating: gpu_local_cfm/model/__pycache__/model_cfm.cpython-37.pyc  \n",
            "  inflating: gpu_local_cfm/model/__pycache__/model_cir.cpython-37.pyc  \n",
            "  inflating: gpu_local_cfm/resources/debt.npy  \n",
            "  inflating: gpu_local_cfm/resources/int.npy  \n",
            "  inflating: gpu_local_cfm/resources/lld.csv  \n",
            "  inflating: gpu_local_cfm/resources/paym.npy  \n",
            "  inflating: gpu_local_cfm/resources/scr.csv  \n",
            "  inflating: gpu_local_cfm/resources/super.pickle  \n",
            "  inflating: gpu_local_cfm/specs/lgd_specs.py  \n",
            "  inflating: gpu_local_cfm/specs/prime_m1.py  \n",
            "  inflating: gpu_local_cfm/specs/__pycache__/lgd_specs.cpython-37.pyc  \n",
            "  inflating: gpu_local_cfm/specs/__pycache__/prime_m1.cpython-37.pyc  \n",
            "  inflating: gpu_local_cfm/test.py   \n",
            "  inflating: gpu_local_cfm/__pycache__/cuda_utils.cpython-37.pyc  \n",
            "end\n"
          ],
          "name": "stdout"
        }
      ]
    },
    {
      "cell_type": "code",
      "metadata": {
        "id": "7X6eKWcH89Qe",
        "colab_type": "code",
        "outputId": "927c1995-90c0-4297-ca9a-ca3038011f4f",
        "colab": {
          "base_uri": "https://localhost:8080/",
          "height": 34
        }
      },
      "source": [
        "%cd .."
      ],
      "execution_count": 7,
      "outputs": [
        {
          "output_type": "stream",
          "text": [
            "/content\n"
          ],
          "name": "stdout"
        }
      ]
    },
    {
      "cell_type": "code",
      "metadata": {
        "id": "qLMUfLOo89qp",
        "colab_type": "code",
        "colab": {
          "base_uri": "https://localhost:8080/",
          "height": 68
        },
        "outputId": "ea54e861-ac99-4d66-f9d1-739fefaca202"
      },
      "source": [
        "%cd gpu_local_cfm\n",
        "%run -i 'test.py' -f=cir"
      ],
      "execution_count": 9,
      "outputs": [
        {
          "output_type": "stream",
          "text": [
            "/content/gpu_local_cfm\n",
            "Loaded\n",
            "0.03583526611328125\n"
          ],
          "name": "stdout"
        }
      ]
    },
    {
      "cell_type": "code",
      "metadata": {
        "id": "ijwVc3-fTE9p",
        "colab_type": "code",
        "colab": {
          "base_uri": "https://localhost:8080/",
          "height": 51
        },
        "outputId": "b19f2a74-ca64-4b64-9ac6-2be5c0fbb652"
      },
      "source": [
        "%cd gpu_local_cfm\n",
        "%run -i 'test.py' -f=cfm_gpu"
      ],
      "execution_count": 1,
      "outputs": [
        {
          "output_type": "stream",
          "text": [
            "/content/gpu_local_cfm\n",
            "84.75683927536011\n"
          ],
          "name": "stdout"
        }
      ]
    },
    {
      "cell_type": "code",
      "metadata": {
        "id": "64aLcuNFUltQ",
        "colab_type": "code",
        "colab": {
          "base_uri": "https://localhost:8080/",
          "height": 51
        },
        "outputId": "c7bb5d89-988e-4d9f-bca5-d1de37ed0692"
      },
      "source": [
        "%cd gpu_local_cfm\n",
        "%run -i 'test.py' -f=cfm"
      ],
      "execution_count": 1,
      "outputs": [
        {
          "output_type": "stream",
          "text": [
            "/content/gpu_local_cfm\n",
            "11114.936975240707\n"
          ],
          "name": "stdout"
        }
      ]
    },
    {
      "cell_type": "code",
      "metadata": {
        "id": "u7nrIyCDbM00",
        "colab_type": "code",
        "colab": {
          "base_uri": "https://localhost:8080/",
          "height": 34
        },
        "outputId": "e8daf814-8f7f-49a8-e7eb-ec56cef933dd"
      },
      "source": [
        "!python3 --version"
      ],
      "execution_count": 2,
      "outputs": [
        {
          "output_type": "stream",
          "text": [
            "Python 3.6.9\n"
          ],
          "name": "stdout"
        }
      ]
    },
    {
      "cell_type": "code",
      "metadata": {
        "id": "jZT5iCKgbesG",
        "colab_type": "code",
        "colab": {
          "base_uri": "https://localhost:8080/",
          "height": 102
        },
        "outputId": "8a25ae0b-4997-42f8-a8af-941a85f576ea"
      },
      "source": [
        "!unzip cuda_viktor.zip;\n",
        "print( \"end\")"
      ],
      "execution_count": 1,
      "outputs": [
        {
          "output_type": "stream",
          "text": [
            "Archive:  cuda_viktor.zip\n",
            "   creating: cuda_viktor/\n",
            "  inflating: cuda_viktor/runsims.py  \n",
            "  inflating: cuda_viktor/speedtest.py  \n",
            "end\n"
          ],
          "name": "stdout"
        }
      ]
    },
    {
      "cell_type": "code",
      "metadata": {
        "id": "TaPo8UROWXuL",
        "colab_type": "code",
        "colab": {
          "base_uri": "https://localhost:8080/",
          "height": 306
        },
        "outputId": "568c6cc9-f3c0-4673-ac28-dfcc1cd8f111"
      },
      "source": [
        "%cd cuda_viktor\n",
        "%run -i 'speedtest.py'"
      ],
      "execution_count": 2,
      "outputs": [
        {
          "output_type": "stream",
          "text": [
            "/content/cuda_viktor\n",
            "--- x32 ---\n",
            "65536:1x65536: 176.08241653442383\n",
            "65536:2x32768: 112.58750629425049\n",
            "65536:4x16384: 69.64105987548828\n",
            "65536:8x8192: 63.37757754325867\n",
            "65536:16x4096: 95.69991159439087\n",
            "65536:32x2048: 150.5356936454773\n",
            "65536:64x1024: 164.45807218551636\n",
            "--- x64 ---\n",
            "65536:1x65536: 179.42821097373962\n",
            "65536:2x32768: 108.56244492530823\n",
            "65536:4x16384: 69.28547024726868\n",
            "65536:8x8192: 72.96861863136292\n",
            "65536:16x4096: 102.48065209388733\n",
            "65536:32x2048: 153.9894106388092\n",
            "65536:64x1024: 167.46397614479065\n"
          ],
          "name": "stdout"
        }
      ]
    },
    {
      "cell_type": "code",
      "metadata": {
        "id": "0rdnk5t9YVJb",
        "colab_type": "code",
        "colab": {}
      },
      "source": [
        ""
      ],
      "execution_count": 0,
      "outputs": []
    }
  ]
}